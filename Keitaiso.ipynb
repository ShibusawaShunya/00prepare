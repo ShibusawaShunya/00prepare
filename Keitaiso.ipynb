{
  "nbformat": 4,
  "nbformat_minor": 0,
  "metadata": {
    "colab": {
      "name": "Keitaiso.ipynb",
      "provenance": [],
      "collapsed_sections": [],
      "toc_visible": true,
      "authorship_tag": "ABX9TyOIdUebk+ylFrWZRwFBA0m4",
      "include_colab_link": true
    },
    "kernelspec": {
      "name": "python3",
      "display_name": "Python 3"
    },
    "language_info": {
      "name": "python"
    }
  },
  "cells": [
    {
      "cell_type": "markdown",
      "metadata": {
        "id": "view-in-github",
        "colab_type": "text"
      },
      "source": [
        "<a href=\"https://colab.research.google.com/github/ShibusawaShunya/00prepare/blob/main/Keitaiso.ipynb\" target=\"_parent\"><img src=\"https://colab.research.google.com/assets/colab-badge.svg\" alt=\"Open In Colab\"/></a>"
      ]
    },
    {
      "cell_type": "code",
      "execution_count": null,
      "metadata": {
        "id": "IqhtYhKFhK_Z"
      },
      "outputs": [],
      "source": [
        "!pip install ginza==4.0.5"
      ]
    },
    {
      "cell_type": "code",
      "source": [
        "#トークン化\n",
        "\n",
        "import spacy \n",
        "\n",
        "nlp = spacy.load('ja_ginza')\n",
        "doc = nlp('青い大きな目の猫')\n",
        "\n",
        "for token in doc:\n",
        "  print(token)"
      ],
      "metadata": {
        "colab": {
          "base_uri": "https://localhost:8080/"
        },
        "id": "ClN1JEQKoW85",
        "outputId": "e6989839-2241-4613-baaf-30abfae6c8c2"
      },
      "execution_count": 4,
      "outputs": [
        {
          "output_type": "stream",
          "name": "stdout",
          "text": [
            "青い\n",
            "大きな\n",
            "目\n",
            "の\n",
            "猫\n"
          ]
        }
      ]
    },
    {
      "cell_type": "code",
      "source": [
        "#トークン化A\n",
        "\n",
        "import ginza\n",
        "import spacy\n",
        "\n",
        "nlp = spacy.load('ja_ginza')\n",
        "ginza.set_split_mode(nlp, 'A') #分割単位A = 最も短い言葉の単位\n",
        "doc = nlp('私は国家公務員です')\n",
        "\n",
        "for token in doc:\n",
        "  print(token)"
      ],
      "metadata": {
        "colab": {
          "base_uri": "https://localhost:8080/"
        },
        "id": "-nRpt1pbosZZ",
        "outputId": "560ecb4b-97db-488a-908f-f1fe1ba1c59e"
      },
      "execution_count": 8,
      "outputs": [
        {
          "output_type": "stream",
          "name": "stdout",
          "text": [
            "私\n",
            "は\n",
            "国家\n",
            "公務\n",
            "員\n",
            "です\n"
          ]
        }
      ]
    },
    {
      "cell_type": "code",
      "source": [
        "#トークン化B\n",
        "\n",
        "import ginza\n",
        "import spacy\n",
        "\n",
        "nlp = spacy.load('ja_ginza')\n",
        "ginza.set_split_mode(nlp, 'B') #分割単位B = A単位＋接辞、および一般の複合動詞\n",
        "doc = nlp('私は国家公務員です')\n",
        "\n",
        "for token in doc:\n",
        "  print(token)"
      ],
      "metadata": {
        "colab": {
          "base_uri": "https://localhost:8080/"
        },
        "id": "dvSBH5Pgs4Wj",
        "outputId": "30f75130-a248-4bdc-e26f-310afb2e37dd"
      },
      "execution_count": 9,
      "outputs": [
        {
          "output_type": "stream",
          "name": "stdout",
          "text": [
            "私\n",
            "は\n",
            "国家\n",
            "公務員\n",
            "です\n"
          ]
        }
      ]
    },
    {
      "cell_type": "code",
      "source": [
        "#トークン化C\n",
        "\n",
        "import ginza\n",
        "import spacy\n",
        "\n",
        "nlp = spacy.load('ja_ginza')\n",
        "ginza.set_split_mode(nlp, 'C') #分割単位C = 複合名詞、固有名詞、慣用句など\n",
        "doc = nlp('私は国家公務員です')\n",
        "\n",
        "for token in doc:\n",
        "  print(token)"
      ],
      "metadata": {
        "colab": {
          "base_uri": "https://localhost:8080/"
        },
        "id": "QHE19mW7tH8A",
        "outputId": "8951e860-c444-4156-b733-f315bf160293"
      },
      "execution_count": 10,
      "outputs": [
        {
          "output_type": "stream",
          "name": "stdout",
          "text": [
            "私\n",
            "は\n",
            "国家公務員\n",
            "です\n"
          ]
        }
      ]
    },
    {
      "cell_type": "code",
      "source": [
        "#品詞タグ付け\n",
        "\n",
        "import spacy\n",
        "\n",
        "nlp = spacy.load('ja_ginza')\n",
        "doc = nlp('銀座に行きます。')\n",
        "\n",
        "for token in doc:\n",
        "  print(\n",
        "      token.text+', '+ #テキスト\n",
        "      token.tag_+', '+ #SudachiPyの品詞タグ\n",
        "      token.pos_)      #Universal Dependenciesの品詞タグ"
      ],
      "metadata": {
        "colab": {
          "base_uri": "https://localhost:8080/"
        },
        "id": "-vGk6QTOtTap",
        "outputId": "a41361eb-3ccd-4749-faed-54f38b452f48"
      },
      "execution_count": 15,
      "outputs": [
        {
          "output_type": "stream",
          "name": "stdout",
          "text": [
            "銀座, 名詞-固有名詞-地名-一般, PROPN\n",
            "に, 助詞-格助詞, ADP\n",
            "行き, 動詞-非自立可能, VERB\n",
            "ます, 助動詞, AUX\n",
            "。, 補助記号-句点, PUNCT\n"
          ]
        }
      ]
    },
    {
      "cell_type": "code",
      "source": [
        "#レンマ化\n",
        "\n",
        "import spacy\n",
        "\n",
        "nlp = spacy.load('ja_ginza')\n",
        "doc = nlp('銀座に行きます。')\n",
        "\n",
        "for token in doc:\n",
        "  print(\n",
        "      token.text+', '+ #テキスト\n",
        "      token.lemma_)    #レンマ化"
      ],
      "metadata": {
        "colab": {
          "base_uri": "https://localhost:8080/"
        },
        "id": "MwyAqie6uHK8",
        "outputId": "c02e5e81-23fa-4539-bdbc-e88c23d47fb5"
      },
      "execution_count": 17,
      "outputs": [
        {
          "output_type": "stream",
          "name": "stdout",
          "text": [
            "銀座, 銀座\n",
            "に, に\n",
            "行き, 行く\n",
            "ます, ます\n",
            "。, 。\n"
          ]
        }
      ]
    },
    {
      "cell_type": "code",
      "source": [
        "#文境界解析\n",
        "\n",
        "import spacy\n",
        "\n",
        "nlp = spacy.load('ja_ginza')\n",
        "doc = nlp('銀座でランチをご一緒しましょう。今度の日曜日はどうですか。')\n",
        "\n",
        "for span in doc.sents:\n",
        "  print(span)"
      ],
      "metadata": {
        "colab": {
          "base_uri": "https://localhost:8080/"
        },
        "id": "sBkPUnl6vOBh",
        "outputId": "c1d11729-750f-45fa-a5b3-762839c393cc"
      },
      "execution_count": 19,
      "outputs": [
        {
          "output_type": "stream",
          "name": "stdout",
          "text": [
            "銀座でランチをご一緒しましょう。\n",
            "今度の日曜日。はどうですか。\n"
          ]
        }
      ]
    },
    {
      "cell_type": "code",
      "source": [
        "#文境界解析＋トークン化\n",
        "\n",
        "import spacy\n",
        "\n",
        "nlp = spacy.load('ja_ginza')\n",
        "doc = nlp('銀座でランチをご一緒しましょう。今度の日曜日はどうですか。')\n",
        "\n",
        "for span in doc.sents:\n",
        "  print(span)\n",
        "  for token in span:\n",
        "    print(token)"
      ],
      "metadata": {
        "colab": {
          "base_uri": "https://localhost:8080/"
        },
        "id": "77GTFxI9v_-d",
        "outputId": "9217de8e-f1e2-4125-f49a-30ef202edad3"
      },
      "execution_count": 25,
      "outputs": [
        {
          "output_type": "stream",
          "name": "stdout",
          "text": [
            "銀座でランチをご一緒しましょう。\n",
            "銀座\n",
            "で\n",
            "ランチ\n",
            "を\n",
            "ご\n",
            "一緒\n",
            "し\n",
            "ましょう\n",
            "。\n",
            "今度の日曜日はどうですか。\n",
            "今度\n",
            "の\n",
            "日曜日\n",
            "は\n",
            "どう\n",
            "です\n",
            "か\n",
            "。\n"
          ]
        }
      ]
    },
    {
      "cell_type": "code",
      "source": [
        "#分節分割\n",
        "\n",
        "import spacy\n",
        "import ginza\n",
        "\n",
        "nlp = spacy.load('ja_ginza')\n",
        "doc = nlp('銀座でランチをご一緒しましょう。今度の日曜日はどうですか。')\n",
        "\n",
        "for sent in doc.sents:\n",
        "  for span in ginza.bunsetu_spans(sent):\n",
        "    print(span)"
      ],
      "metadata": {
        "colab": {
          "base_uri": "https://localhost:8080/"
        },
        "id": "eiXMhjWMwdRJ",
        "outputId": "69626828-f676-4212-b71a-5a467347f99c"
      },
      "execution_count": 35,
      "outputs": [
        {
          "output_type": "stream",
          "name": "stdout",
          "text": [
            "銀座で\n",
            "ランチを\n",
            "ご一緒しましょう。\n",
            "今度の\n",
            "日曜日は\n",
            "どうですか。\n"
          ]
        }
      ]
    },
    {
      "cell_type": "code",
      "source": [
        "#分節分割＋トークン化\n",
        "\n",
        "import spacy\n",
        "import ginza\n",
        "\n",
        "nlp = spacy.load('ja_ginza')\n",
        "doc = nlp('銀座でランチをご一緒しましょう。今度の日曜日はどうですか。')\n",
        "\n",
        "for sent in doc.sents:\n",
        "  for span in ginza.bunsetu_spans(sent):\n",
        "    for token in span:\n",
        "      print(token)"
      ],
      "metadata": {
        "colab": {
          "base_uri": "https://localhost:8080/"
        },
        "id": "g1Ab9kq6yMAk",
        "outputId": "26a48486-cb22-4dcd-9fc5-b8571a2aeac3"
      },
      "execution_count": 36,
      "outputs": [
        {
          "output_type": "stream",
          "name": "stdout",
          "text": [
            "銀座\n",
            "で\n",
            "ランチ\n",
            "を\n",
            "ご\n",
            "一緒\n",
            "し\n",
            "ましょう\n",
            "。\n",
            "今度\n",
            "の\n",
            "日曜日\n",
            "は\n",
            "どう\n",
            "です\n",
            "か\n",
            "。\n"
          ]
        }
      ]
    }
  ]
}