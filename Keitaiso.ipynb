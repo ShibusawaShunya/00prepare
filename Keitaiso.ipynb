{
  "nbformat": 4,
  "nbformat_minor": 0,
  "metadata": {
    "colab": {
      "name": "Keitaiso.ipynb",
      "provenance": [],
      "collapsed_sections": [],
      "toc_visible": true,
      "authorship_tag": "ABX9TyN4sZ6kHvGMDne0r8rCq/31",
      "include_colab_link": true
    },
    "kernelspec": {
      "name": "python3",
      "display_name": "Python 3"
    },
    "language_info": {
      "name": "python"
    }
  },
  "cells": [
    {
      "cell_type": "markdown",
      "metadata": {
        "id": "view-in-github",
        "colab_type": "text"
      },
      "source": [
        "<a href=\"https://colab.research.google.com/github/ShibusawaShunya/00prepare/blob/main/Keitaiso.ipynb\" target=\"_parent\"><img src=\"https://colab.research.google.com/assets/colab-badge.svg\" alt=\"Open In Colab\"/></a>"
      ]
    },
    {
      "cell_type": "code",
      "execution_count": 1,
      "metadata": {
        "colab": {
          "base_uri": "https://localhost:8080/"
        },
        "id": "IqhtYhKFhK_Z",
        "outputId": "66480c65-94f4-4871-92aa-c05be7f14f60"
      },
      "outputs": [
        {
          "output_type": "stream",
          "name": "stdout",
          "text": [
            "Collecting ginza==4.0.5\n",
            "  Downloading ginza-4.0.5.tar.gz (20 kB)\n",
            "Collecting spacy<3.0.0,>=2.3.2\n",
            "  Downloading spacy-2.3.7-cp37-cp37m-manylinux_2_17_x86_64.manylinux2014_x86_64.whl (10.4 MB)\n",
            "\u001b[K     |████████████████████████████████| 10.4 MB 5.5 MB/s \n",
            "\u001b[?25hCollecting ja_ginza<4.1.0,>=4.0.0\n",
            "  Downloading ja_ginza-4.0.0.tar.gz (51.5 MB)\n",
            "\u001b[K     |████████████████████████████████| 51.5 MB 42 kB/s \n",
            "\u001b[?25hCollecting SudachiPy>=0.4.9\n",
            "  Downloading SudachiPy-0.6.3-cp37-cp37m-manylinux_2_5_x86_64.manylinux1_x86_64.manylinux_2_12_x86_64.manylinux2010_x86_64.whl (2.2 MB)\n",
            "\u001b[K     |████████████████████████████████| 2.2 MB 41.4 MB/s \n",
            "\u001b[?25hCollecting SudachiDict-core>=20200330\n",
            "  Downloading SudachiDict-core-20211220.tar.gz (9.1 kB)\n",
            "Requirement already satisfied: cymem<2.1.0,>=2.0.2 in /usr/local/lib/python3.7/dist-packages (from spacy<3.0.0,>=2.3.2->ginza==4.0.5) (2.0.6)\n",
            "Requirement already satisfied: preshed<3.1.0,>=3.0.2 in /usr/local/lib/python3.7/dist-packages (from spacy<3.0.0,>=2.3.2->ginza==4.0.5) (3.0.6)\n",
            "Requirement already satisfied: blis<0.8.0,>=0.4.0 in /usr/local/lib/python3.7/dist-packages (from spacy<3.0.0,>=2.3.2->ginza==4.0.5) (0.4.1)\n",
            "Requirement already satisfied: numpy>=1.15.0 in /usr/local/lib/python3.7/dist-packages (from spacy<3.0.0,>=2.3.2->ginza==4.0.5) (1.21.5)\n",
            "Requirement already satisfied: murmurhash<1.1.0,>=0.28.0 in /usr/local/lib/python3.7/dist-packages (from spacy<3.0.0,>=2.3.2->ginza==4.0.5) (1.0.6)\n",
            "Requirement already satisfied: srsly<1.1.0,>=1.0.2 in /usr/local/lib/python3.7/dist-packages (from spacy<3.0.0,>=2.3.2->ginza==4.0.5) (1.0.5)\n",
            "Requirement already satisfied: setuptools in /usr/local/lib/python3.7/dist-packages (from spacy<3.0.0,>=2.3.2->ginza==4.0.5) (57.4.0)\n",
            "Requirement already satisfied: plac<1.2.0,>=0.9.6 in /usr/local/lib/python3.7/dist-packages (from spacy<3.0.0,>=2.3.2->ginza==4.0.5) (1.1.3)\n",
            "Collecting thinc<7.5.0,>=7.4.1\n",
            "  Downloading thinc-7.4.5-cp37-cp37m-manylinux2014_x86_64.whl (1.0 MB)\n",
            "\u001b[K     |████████████████████████████████| 1.0 MB 57.7 MB/s \n",
            "\u001b[?25hRequirement already satisfied: wasabi<1.1.0,>=0.4.0 in /usr/local/lib/python3.7/dist-packages (from spacy<3.0.0,>=2.3.2->ginza==4.0.5) (0.9.1)\n",
            "Requirement already satisfied: tqdm<5.0.0,>=4.38.0 in /usr/local/lib/python3.7/dist-packages (from spacy<3.0.0,>=2.3.2->ginza==4.0.5) (4.64.0)\n",
            "Requirement already satisfied: requests<3.0.0,>=2.13.0 in /usr/local/lib/python3.7/dist-packages (from spacy<3.0.0,>=2.3.2->ginza==4.0.5) (2.23.0)\n",
            "Requirement already satisfied: catalogue<1.1.0,>=0.0.7 in /usr/local/lib/python3.7/dist-packages (from spacy<3.0.0,>=2.3.2->ginza==4.0.5) (1.0.0)\n",
            "Requirement already satisfied: importlib-metadata>=0.20 in /usr/local/lib/python3.7/dist-packages (from catalogue<1.1.0,>=0.0.7->spacy<3.0.0,>=2.3.2->ginza==4.0.5) (4.11.3)\n",
            "Requirement already satisfied: zipp>=0.5 in /usr/local/lib/python3.7/dist-packages (from importlib-metadata>=0.20->catalogue<1.1.0,>=0.0.7->spacy<3.0.0,>=2.3.2->ginza==4.0.5) (3.8.0)\n",
            "Requirement already satisfied: typing-extensions>=3.6.4 in /usr/local/lib/python3.7/dist-packages (from importlib-metadata>=0.20->catalogue<1.1.0,>=0.0.7->spacy<3.0.0,>=2.3.2->ginza==4.0.5) (4.1.1)\n",
            "Requirement already satisfied: urllib3!=1.25.0,!=1.25.1,<1.26,>=1.21.1 in /usr/local/lib/python3.7/dist-packages (from requests<3.0.0,>=2.13.0->spacy<3.0.0,>=2.3.2->ginza==4.0.5) (1.24.3)\n",
            "Requirement already satisfied: chardet<4,>=3.0.2 in /usr/local/lib/python3.7/dist-packages (from requests<3.0.0,>=2.13.0->spacy<3.0.0,>=2.3.2->ginza==4.0.5) (3.0.4)\n",
            "Requirement already satisfied: idna<3,>=2.5 in /usr/local/lib/python3.7/dist-packages (from requests<3.0.0,>=2.13.0->spacy<3.0.0,>=2.3.2->ginza==4.0.5) (2.10)\n",
            "Requirement already satisfied: certifi>=2017.4.17 in /usr/local/lib/python3.7/dist-packages (from requests<3.0.0,>=2.13.0->spacy<3.0.0,>=2.3.2->ginza==4.0.5) (2021.10.8)\n",
            "Building wheels for collected packages: ginza, ja-ginza, SudachiDict-core\n",
            "  Building wheel for ginza (setup.py) ... \u001b[?25l\u001b[?25hdone\n",
            "  Created wheel for ginza: filename=ginza-4.0.5-py3-none-any.whl size=15896 sha256=7e6c142cc4d694ae92ded3792647b811b2e823f0c0512c77e190e583a3d717ee\n",
            "  Stored in directory: /root/.cache/pip/wheels/ba/a9/a2/c1165c004f6dcb415b7a7d145aa4511b5024b5fb1f2eb0c0ea\n",
            "  Building wheel for ja-ginza (setup.py) ... \u001b[?25l\u001b[?25hdone\n",
            "  Created wheel for ja-ginza: filename=ja_ginza-4.0.0-py3-none-any.whl size=51530814 sha256=1319768f34493a86d98d866ed423cf7a0f3d46a5ee189466f7da5bf307bf2e5a\n",
            "  Stored in directory: /root/.cache/pip/wheels/a8/f5/4a/5d4877342f912e0b7209d8a65e7ce39fe2c1a3c2511d59acfb\n",
            "  Building wheel for SudachiDict-core (setup.py) ... \u001b[?25l\u001b[?25hdone\n",
            "  Created wheel for SudachiDict-core: filename=SudachiDict_core-20211220-py3-none-any.whl size=71565353 sha256=4502153f18aba2a616ca10422ea30f6b14e98dbb563a430093ff9289080562ee\n",
            "  Stored in directory: /root/.cache/pip/wheels/17/6d/f6/f9451cbfc76ffdf985af12239191ca20721f1da5aba5005eb0\n",
            "Successfully built ginza ja-ginza SudachiDict-core\n",
            "Installing collected packages: thinc, SudachiPy, spacy, SudachiDict-core, ja-ginza, ginza\n",
            "  Attempting uninstall: thinc\n",
            "    Found existing installation: thinc 7.4.0\n",
            "    Uninstalling thinc-7.4.0:\n",
            "      Successfully uninstalled thinc-7.4.0\n",
            "  Attempting uninstall: spacy\n",
            "    Found existing installation: spacy 2.2.4\n",
            "    Uninstalling spacy-2.2.4:\n",
            "      Successfully uninstalled spacy-2.2.4\n",
            "Successfully installed SudachiDict-core-20211220 SudachiPy-0.6.3 ginza-4.0.5 ja-ginza-4.0.0 spacy-2.3.7 thinc-7.4.5\n"
          ]
        }
      ],
      "source": [
        "!pip install ginza==4.0.5"
      ]
    },
    {
      "cell_type": "code",
      "source": [
        "import spacy \n",
        "\n",
        "nlp = spacy.load('ja_ginza')\n",
        "doc = nlp('青い大きな目の猫')\n",
        "\n",
        "for token in doc:\n",
        "  print(token)"
      ],
      "metadata": {
        "colab": {
          "base_uri": "https://localhost:8080/"
        },
        "id": "ClN1JEQKoW85",
        "outputId": "e6989839-2241-4613-baaf-30abfae6c8c2"
      },
      "execution_count": 4,
      "outputs": [
        {
          "output_type": "stream",
          "name": "stdout",
          "text": [
            "青い\n",
            "大きな\n",
            "目\n",
            "の\n",
            "猫\n"
          ]
        }
      ]
    },
    {
      "cell_type": "code",
      "source": [
        "import ginza\n",
        "import spacy\n",
        "\n",
        "nlp = spacy.load('ja_ginza')\n",
        "ginza.set_split_mode(nlp, 'A') #分割単位A = 最も短い言葉の単位\n",
        "doc = nlp('私は国家公務員です')\n",
        "\n",
        "for token in doc:\n",
        "  print(token)"
      ],
      "metadata": {
        "colab": {
          "base_uri": "https://localhost:8080/"
        },
        "id": "-nRpt1pbosZZ",
        "outputId": "560ecb4b-97db-488a-908f-f1fe1ba1c59e"
      },
      "execution_count": 8,
      "outputs": [
        {
          "output_type": "stream",
          "name": "stdout",
          "text": [
            "私\n",
            "は\n",
            "国家\n",
            "公務\n",
            "員\n",
            "です\n"
          ]
        }
      ]
    },
    {
      "cell_type": "code",
      "source": [
        "import ginza\n",
        "import spacy\n",
        "\n",
        "nlp = spacy.load('ja_ginza')\n",
        "ginza.set_split_mode(nlp, 'B') #分割単位B = A単位＋接辞、および一般の複合動詞\n",
        "doc = nlp('私は国家公務員です')\n",
        "\n",
        "for token in doc:\n",
        "  print(token)"
      ],
      "metadata": {
        "colab": {
          "base_uri": "https://localhost:8080/"
        },
        "id": "dvSBH5Pgs4Wj",
        "outputId": "30f75130-a248-4bdc-e26f-310afb2e37dd"
      },
      "execution_count": 9,
      "outputs": [
        {
          "output_type": "stream",
          "name": "stdout",
          "text": [
            "私\n",
            "は\n",
            "国家\n",
            "公務員\n",
            "です\n"
          ]
        }
      ]
    },
    {
      "cell_type": "code",
      "source": [
        "import ginza\n",
        "import spacy\n",
        "\n",
        "nlp = spacy.load('ja_ginza')\n",
        "ginza.set_split_mode(nlp, 'C') #分割単位C = 複合名詞、固有名詞、慣用句など\n",
        "doc = nlp('私は国家公務員です')\n",
        "\n",
        "for token in doc:\n",
        "  print(token)"
      ],
      "metadata": {
        "colab": {
          "base_uri": "https://localhost:8080/"
        },
        "id": "QHE19mW7tH8A",
        "outputId": "8951e860-c444-4156-b733-f315bf160293"
      },
      "execution_count": 10,
      "outputs": [
        {
          "output_type": "stream",
          "name": "stdout",
          "text": [
            "私\n",
            "は\n",
            "国家公務員\n",
            "です\n"
          ]
        }
      ]
    },
    {
      "cell_type": "code",
      "source": [
        "#品詞タグ付け\n",
        "\n",
        "import spacy\n",
        "\n",
        "nlp = spacy.load('ja_ginza')\n",
        "doc = nlp('銀座に行きます。')\n",
        "\n",
        "for token in doc:\n",
        "  print(\n",
        "      token.text+', '+ #テキスト\n",
        "      token.tag_+', '+ #SudachiPyの品詞タグ\n",
        "      token.pos_)      #Universal Dependenciesの品詞タグ"
      ],
      "metadata": {
        "colab": {
          "base_uri": "https://localhost:8080/"
        },
        "id": "-vGk6QTOtTap",
        "outputId": "a41361eb-3ccd-4749-faed-54f38b452f48"
      },
      "execution_count": 15,
      "outputs": [
        {
          "output_type": "stream",
          "name": "stdout",
          "text": [
            "銀座, 名詞-固有名詞-地名-一般, PROPN\n",
            "に, 助詞-格助詞, ADP\n",
            "行き, 動詞-非自立可能, VERB\n",
            "ます, 助動詞, AUX\n",
            "。, 補助記号-句点, PUNCT\n"
          ]
        }
      ]
    },
    {
      "cell_type": "code",
      "source": [
        "#レンマ化\n",
        "\n",
        "import spacy\n",
        "\n",
        "nlp = spacy.load('ja_ginza')\n",
        "doc = nlp('銀座に行きます。')\n",
        "\n",
        "for token in doc:\n",
        "  print(\n",
        "      token.text+', '+ #テキスト\n",
        "      token.lemma_)    #レンマ化"
      ],
      "metadata": {
        "colab": {
          "base_uri": "https://localhost:8080/"
        },
        "id": "MwyAqie6uHK8",
        "outputId": "c02e5e81-23fa-4539-bdbc-e88c23d47fb5"
      },
      "execution_count": 17,
      "outputs": [
        {
          "output_type": "stream",
          "name": "stdout",
          "text": [
            "銀座, 銀座\n",
            "に, に\n",
            "行き, 行く\n",
            "ます, ます\n",
            "。, 。\n"
          ]
        }
      ]
    },
    {
      "cell_type": "code",
      "source": [
        "#文境界解析\n",
        "\n",
        "import spacy\n",
        "\n",
        "nlp = spacy.load('ja_ginza')\n",
        "doc = nlp('銀座でランチをご一緒しましょう。今度の日曜日はどうですか。')\n",
        "\n",
        "for span in doc.sents:\n",
        "  print(span)"
      ],
      "metadata": {
        "colab": {
          "base_uri": "https://localhost:8080/"
        },
        "id": "sBkPUnl6vOBh",
        "outputId": "c1d11729-750f-45fa-a5b3-762839c393cc"
      },
      "execution_count": 19,
      "outputs": [
        {
          "output_type": "stream",
          "name": "stdout",
          "text": [
            "銀座でランチをご一緒しましょう。\n",
            "今度の日曜日。はどうですか。\n"
          ]
        }
      ]
    },
    {
      "cell_type": "code",
      "source": [
        "#文境界解析＋トークン化\n",
        "\n",
        "import spacy\n",
        "\n",
        "nlp = spacy.load('ja_ginza')\n",
        "doc = nlp('銀座でランチをご一緒しましょう。今度の日曜日はどうですか。')\n",
        "\n",
        "for span in doc.sents:\n",
        "  print(span)\n",
        "  for token in span:\n",
        "    print(token)"
      ],
      "metadata": {
        "colab": {
          "base_uri": "https://localhost:8080/"
        },
        "id": "77GTFxI9v_-d",
        "outputId": "9217de8e-f1e2-4125-f49a-30ef202edad3"
      },
      "execution_count": 25,
      "outputs": [
        {
          "output_type": "stream",
          "name": "stdout",
          "text": [
            "銀座でランチをご一緒しましょう。\n",
            "銀座\n",
            "で\n",
            "ランチ\n",
            "を\n",
            "ご\n",
            "一緒\n",
            "し\n",
            "ましょう\n",
            "。\n",
            "今度の日曜日はどうですか。\n",
            "今度\n",
            "の\n",
            "日曜日\n",
            "は\n",
            "どう\n",
            "です\n",
            "か\n",
            "。\n"
          ]
        }
      ]
    },
    {
      "cell_type": "code",
      "source": [
        "#分節分割\n",
        "\n",
        "import spacy\n",
        "import ginza\n",
        "\n",
        "nlp = spacy.load('ja_ginza')\n",
        "doc = nlp('銀座でランチをご一緒しましょう。今度の日曜日はどうですか。')\n",
        "\n",
        "for sent in doc.sents:\n",
        "  for span in ginza.bunsetu_spans(sent):\n",
        "    print(span)"
      ],
      "metadata": {
        "colab": {
          "base_uri": "https://localhost:8080/"
        },
        "id": "eiXMhjWMwdRJ",
        "outputId": "69626828-f676-4212-b71a-5a467347f99c"
      },
      "execution_count": 35,
      "outputs": [
        {
          "output_type": "stream",
          "name": "stdout",
          "text": [
            "銀座で\n",
            "ランチを\n",
            "ご一緒しましょう。\n",
            "今度の\n",
            "日曜日は\n",
            "どうですか。\n"
          ]
        }
      ]
    },
    {
      "cell_type": "code",
      "source": [
        "#分節分割＋トークン化\n",
        "\n",
        "import spacy\n",
        "import ginza\n",
        "\n",
        "nlp = spacy.load('ja_ginza')\n",
        "doc = nlp('銀座でランチをご一緒しましょう。今度の日曜日はどうですか。')\n",
        "\n",
        "for sent in doc.sents:\n",
        "  for span in ginza.bunsetu_spans(sent):\n",
        "    for token in span:\n",
        "      print(token)"
      ],
      "metadata": {
        "colab": {
          "base_uri": "https://localhost:8080/"
        },
        "id": "g1Ab9kq6yMAk",
        "outputId": "26a48486-cb22-4dcd-9fc5-b8571a2aeac3"
      },
      "execution_count": 36,
      "outputs": [
        {
          "output_type": "stream",
          "name": "stdout",
          "text": [
            "銀座\n",
            "で\n",
            "ランチ\n",
            "を\n",
            "ご\n",
            "一緒\n",
            "し\n",
            "ましょう\n",
            "。\n",
            "今度\n",
            "の\n",
            "日曜日\n",
            "は\n",
            "どう\n",
            "です\n",
            "か\n",
            "。\n"
          ]
        }
      ]
    }
  ]
}